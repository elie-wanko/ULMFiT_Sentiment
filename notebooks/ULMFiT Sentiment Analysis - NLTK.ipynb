{
 "cells": [
  {
   "cell_type": "markdown",
   "metadata": {},
   "source": [
    "# ULMFiT Sentiment Analysis - NLTK"
   ]
  },
  {
   "cell_type": "markdown",
   "metadata": {},
   "source": [
    "#### Imports"
   ]
  },
  {
   "cell_type": "code",
   "execution_count": 1,
   "metadata": {},
   "outputs": [],
   "source": [
    "import numpy as np\n",
    "import pandas as pd\n",
    "import seaborn as sns\n",
    "import matplotlib.pyplot as plt\n",
    "import re\n",
    "import nltk\n",
    "\n",
    "from nltk.tokenize import word_tokenize\n",
    "from nltk.corpus import stopwords\n",
    "from string import punctuation\n",
    "from sklearn.naive_bayes import MultinomialNB\n",
    "from sklearn.preprocessing import LabelEncoder\n",
    "from sklearn.model_selection import train_test_split\n",
    "from sklearn.feature_extraction.text import CountVectorizer\n",
    "from sklearn.metrics import accuracy_score, confusion_matrix, classification_report"
   ]
  },
  {
   "cell_type": "code",
   "execution_count": 2,
   "metadata": {},
   "outputs": [],
   "source": [
    "pd.set_option('display.max_colwidth', 0)         \n",
    "%matplotlib inline\n",
    "%config InlineBackend.figure_format='retina'"
   ]
  },
  {
   "cell_type": "code",
   "execution_count": 3,
   "metadata": {},
   "outputs": [],
   "source": [
    "#**Adding module’s sub-directory to Pythons path**\n",
    "import os\n",
    "import sys\n",
    "sys.path.insert(0, os.path.abspath('../helpers'))\n",
    "import data"
   ]
  },
  {
   "cell_type": "markdown",
   "metadata": {},
   "source": [
    "#### Data Preview"
   ]
  },
  {
   "cell_type": "code",
   "execution_count": 4,
   "metadata": {},
   "outputs": [
    {
     "data": {
      "text/html": [
       "<div>\n",
       "<style scoped>\n",
       "    .dataframe tbody tr th:only-of-type {\n",
       "        vertical-align: middle;\n",
       "    }\n",
       "\n",
       "    .dataframe tbody tr th {\n",
       "        vertical-align: top;\n",
       "    }\n",
       "\n",
       "    .dataframe thead th {\n",
       "        text-align: right;\n",
       "    }\n",
       "</style>\n",
       "<table border=\"1\" class=\"dataframe\">\n",
       "  <thead>\n",
       "    <tr style=\"text-align: right;\">\n",
       "      <th></th>\n",
       "      <th>tweet_id</th>\n",
       "      <th>airline_sentiment</th>\n",
       "      <th>airline_sentiment_confidence</th>\n",
       "      <th>negativereason</th>\n",
       "      <th>negativereason_confidence</th>\n",
       "      <th>airline</th>\n",
       "      <th>airline_sentiment_gold</th>\n",
       "      <th>name</th>\n",
       "      <th>negativereason_gold</th>\n",
       "      <th>retweet_count</th>\n",
       "      <th>text</th>\n",
       "      <th>tweet_coord</th>\n",
       "      <th>tweet_created</th>\n",
       "      <th>tweet_location</th>\n",
       "      <th>user_timezone</th>\n",
       "    </tr>\n",
       "  </thead>\n",
       "  <tbody>\n",
       "    <tr>\n",
       "      <th>11451</th>\n",
       "      <td>568106783241211904</td>\n",
       "      <td>negative</td>\n",
       "      <td>0.6489</td>\n",
       "      <td>Customer Service Issue</td>\n",
       "      <td>0.3511</td>\n",
       "      <td>US Airways</td>\n",
       "      <td>NaN</td>\n",
       "      <td>MoamarMoMoney</td>\n",
       "      <td>NaN</td>\n",
       "      <td>0</td>\n",
       "      <td>@USAirways your agent did not say</td>\n",
       "      <td>[41.15955496, -81.39767448]</td>\n",
       "      <td>2015-02-18 09:56:26 -0800</td>\n",
       "      <td>NaN</td>\n",
       "      <td>Eastern Time (US &amp; Canada)</td>\n",
       "    </tr>\n",
       "  </tbody>\n",
       "</table>\n",
       "</div>"
      ],
      "text/plain": [
       "                 tweet_id airline_sentiment  airline_sentiment_confidence  \\\n",
       "11451  568106783241211904  negative          0.6489                         \n",
       "\n",
       "               negativereason  negativereason_confidence     airline  \\\n",
       "11451  Customer Service Issue  0.3511                     US Airways   \n",
       "\n",
       "      airline_sentiment_gold           name negativereason_gold  \\\n",
       "11451  NaN                    MoamarMoMoney  NaN                  \n",
       "\n",
       "       retweet_count                               text  \\\n",
       "11451  0              @USAirways your agent did not say   \n",
       "\n",
       "                       tweet_coord              tweet_created tweet_location  \\\n",
       "11451  [41.15955496, -81.39767448]  2015-02-18 09:56:26 -0800  NaN             \n",
       "\n",
       "                    user_timezone  \n",
       "11451  Eastern Time (US & Canada)  "
      ]
     },
     "execution_count": 4,
     "metadata": {},
     "output_type": "execute_result"
    }
   ],
   "source": [
    "df_data = pd.read_csv(\"..\\data\\Tweets.csv\")\n",
    "df_data.sample()"
   ]
  },
  {
   "cell_type": "markdown",
   "metadata": {},
   "source": [
    "#### Data Cleaning"
   ]
  },
  {
   "cell_type": "code",
   "execution_count": 5,
   "metadata": {},
   "outputs": [
    {
     "data": {
      "text/html": [
       "<div>\n",
       "<style scoped>\n",
       "    .dataframe tbody tr th:only-of-type {\n",
       "        vertical-align: middle;\n",
       "    }\n",
       "\n",
       "    .dataframe tbody tr th {\n",
       "        vertical-align: top;\n",
       "    }\n",
       "\n",
       "    .dataframe thead th {\n",
       "        text-align: right;\n",
       "    }\n",
       "</style>\n",
       "<table border=\"1\" class=\"dataframe\">\n",
       "  <thead>\n",
       "    <tr style=\"text-align: right;\">\n",
       "      <th></th>\n",
       "      <th>airline_sentiment</th>\n",
       "      <th>text</th>\n",
       "    </tr>\n",
       "  </thead>\n",
       "  <tbody>\n",
       "    <tr>\n",
       "      <th>0</th>\n",
       "      <td>neutral</td>\n",
       "      <td>virginamerica dhepburn said</td>\n",
       "    </tr>\n",
       "    <tr>\n",
       "      <th>1</th>\n",
       "      <td>positive</td>\n",
       "      <td>virginamerica plus added commercials experience tacky</td>\n",
       "    </tr>\n",
       "    <tr>\n",
       "      <th>2</th>\n",
       "      <td>neutral</td>\n",
       "      <td>virginamerica today must mean need take another trip</td>\n",
       "    </tr>\n",
       "    <tr>\n",
       "      <th>3</th>\n",
       "      <td>negative</td>\n",
       "      <td>virginamerica really aggressive blast obnoxious entertainment guests faces amp little recourse</td>\n",
       "    </tr>\n",
       "    <tr>\n",
       "      <th>4</th>\n",
       "      <td>negative</td>\n",
       "      <td>virginamerica really big bad thing</td>\n",
       "    </tr>\n",
       "    <tr>\n",
       "      <th>...</th>\n",
       "      <td>...</td>\n",
       "      <td>...</td>\n",
       "    </tr>\n",
       "    <tr>\n",
       "      <th>14635</th>\n",
       "      <td>positive</td>\n",
       "      <td>americanair thank got different flight chicago</td>\n",
       "    </tr>\n",
       "    <tr>\n",
       "      <th>14636</th>\n",
       "      <td>negative</td>\n",
       "      <td>americanair leaving minutes late flight warnings communication minutes late flight called shitty customer svc</td>\n",
       "    </tr>\n",
       "    <tr>\n",
       "      <th>14637</th>\n",
       "      <td>neutral</td>\n",
       "      <td>americanair please bring american airlines blackberry</td>\n",
       "    </tr>\n",
       "    <tr>\n",
       "      <th>14638</th>\n",
       "      <td>negative</td>\n",
       "      <td>americanair money change flight answer phones suggestions make commitment</td>\n",
       "    </tr>\n",
       "    <tr>\n",
       "      <th>14639</th>\n",
       "      <td>neutral</td>\n",
       "      <td>americanair ppl need know many seats next flight plz put us standby people next flight</td>\n",
       "    </tr>\n",
       "  </tbody>\n",
       "</table>\n",
       "<p>14640 rows × 2 columns</p>\n",
       "</div>"
      ],
      "text/plain": [
       "      airline_sentiment  \\\n",
       "0      neutral            \n",
       "1      positive           \n",
       "2      neutral            \n",
       "3      negative           \n",
       "4      negative           \n",
       "...         ...           \n",
       "14635  positive           \n",
       "14636  negative           \n",
       "14637  neutral            \n",
       "14638  negative           \n",
       "14639  neutral            \n",
       "\n",
       "                                                                                                                text  \n",
       "0      virginamerica dhepburn said                                                                                    \n",
       "1      virginamerica plus added commercials experience tacky                                                          \n",
       "2      virginamerica today must mean need take another trip                                                           \n",
       "3      virginamerica really aggressive blast obnoxious entertainment guests faces amp little recourse                 \n",
       "4      virginamerica really big bad thing                                                                             \n",
       "...                                   ...                                                                             \n",
       "14635  americanair thank got different flight chicago                                                                 \n",
       "14636  americanair leaving minutes late flight warnings communication minutes late flight called shitty customer svc  \n",
       "14637  americanair please bring american airlines blackberry                                                          \n",
       "14638  americanair money change flight answer phones suggestions make commitment                                      \n",
       "14639  americanair ppl need know many seats next flight plz put us standby people next flight                         \n",
       "\n",
       "[14640 rows x 2 columns]"
      ]
     },
     "execution_count": 5,
     "metadata": {},
     "output_type": "execute_result"
    }
   ],
   "source": [
    "def tweet_to_words(tweet):\n",
    "    \"\"\"\n",
    "    \n",
    "    \"\"\"\n",
    "    tweet = re.sub('((www\\.[^\\s]+)|(https?://[^\\s]+))', 'URL', tweet) # remove URLs\n",
    "    tweet = re.sub(r'#([^\\s]+)', r'\\1', tweet) # remove the # in #hashtag\n",
    "    tweet = re.sub(\"[^a-zA-Z]\", \" \", tweet) # Remove special characters\n",
    "    tweet = tweet.lower() # convert text to lower-case\n",
    "    words = word_tokenize(tweet) # remove repeated characters (helloooooooo into hello) \n",
    "    stops = set(stopwords.words(\"english\"))\n",
    "    meaningful_words = [w for w in words if not w in stops]\n",
    "    \n",
    "    return( \" \".join(meaningful_words))\n",
    "\n",
    "df_tweets = df_data.filter(items=['airline_sentiment', 'text'])\n",
    "df_tweets['text'] = df_tweets['text'].apply(lambda x: tweet_to_words(x))\n",
    "df_tweets"
   ]
  },
  {
   "cell_type": "markdown",
   "metadata": {},
   "source": [
    "#### Data Preprocessing"
   ]
  },
  {
   "cell_type": "code",
   "execution_count": 6,
   "metadata": {},
   "outputs": [
    {
     "name": "stdout",
     "output_type": "stream",
     "text": [
      "<class 'pandas.core.frame.DataFrame'>\n",
      "RangeIndex: 14640 entries, 0 to 14639\n",
      "Data columns (total 2 columns):\n",
      "airline_sentiment    14640 non-null int32\n",
      "text                 14640 non-null object\n",
      "dtypes: int32(1), object(1)\n",
      "memory usage: 171.7+ KB\n"
     ]
    }
   ],
   "source": [
    "le_model = LabelEncoder()\n",
    "df_tweets['airline_sentiment'] = le_model.fit_transform(df_tweets['airline_sentiment'])\n",
    "df_tweets.to_csv('..\\data\\Just_Tweets.csv', index=False)\n",
    "df_tweets.info()"
   ]
  },
  {
   "cell_type": "markdown",
   "metadata": {},
   "source": [
    "#### Data Test and Train Splits"
   ]
  },
  {
   "cell_type": "code",
   "execution_count": 7,
   "metadata": {},
   "outputs": [
    {
     "name": "stdout",
     "output_type": "stream",
     "text": [
      "Ratios in the order - positive : neutral : negative!\n",
      "Training ratio: 1.0:1.0:1.0\n",
      "Testing ratio: 1.0:1.0:3.0\n"
     ]
    }
   ],
   "source": [
    "train_data, test_data = data.create_splits(df_tweets, 'airline_sentiment')\n",
    "\n",
    "print('Ratios in the order - positive : neutral : negative!')\n",
    "pv_num = len(train_data[train_data['airline_sentiment']==2])\n",
    "nn_num = len(train_data[train_data['airline_sentiment']==1])  \n",
    "nv_num = len(train_data[train_data['airline_sentiment']==0]) \n",
    "print('Training ratio: {}:{}:{}'.format(pv_num/pv_num, nn_num/pv_num, nv_num/pv_num))\n",
    "\n",
    "pv_num = len(test_data[test_data['airline_sentiment']==2])\n",
    "nn_num = len(test_data[test_data['airline_sentiment']==1])\n",
    "nv_num = len(test_data[test_data['airline_sentiment']==0])\n",
    "print('Testing ratio: {}:{}:{}'.format(pv_num/pv_num, nn_num/pv_num, nv_num/pv_num))"
   ]
  },
  {
   "cell_type": "code",
   "execution_count": 8,
   "metadata": {},
   "outputs": [],
   "source": [
    "train_clean_tweets=[]\n",
    "for tweet in train_data['text']:\n",
    "    train_clean_tweets.append(tweet)\n",
    "    \n",
    "test_clean_tweets=[]\n",
    "for tweet in test_data['text']:\n",
    "    test_clean_tweets.append(tweet)"
   ]
  },
  {
   "cell_type": "code",
   "execution_count": null,
   "metadata": {},
   "outputs": [],
   "source": []
  },
  {
   "cell_type": "code",
   "execution_count": 9,
   "metadata": {},
   "outputs": [],
   "source": [
    "vectorizer = CountVectorizer(analyzer=\"word\")\n",
    "train_features= vectorizer.fit_transform(train_clean_tweets)\n",
    "test_features= vectorizer.transform(test_clean_tweets)"
   ]
  },
  {
   "cell_type": "markdown",
   "metadata": {},
   "source": [
    "#### Metrics Evaluation"
   ]
  },
  {
   "cell_type": "code",
   "execution_count": 10,
   "metadata": {},
   "outputs": [
    {
     "name": "stdout",
     "output_type": "stream",
     "text": [
      "Training Acc. : 0.87\n"
     ]
    }
   ],
   "source": [
    "nb_model = MultinomialNB()\n",
    "nb_model.fit(train_features, train_data['airline_sentiment'])\n",
    "\n",
    "accuracy_train = accuracy_score(nb_model.predict(train_features), train_data['airline_sentiment'])\n",
    "print('Training Acc. : {:.2f}'.format(accuracy_train))"
   ]
  },
  {
   "cell_type": "code",
   "execution_count": null,
   "metadata": {},
   "outputs": [],
   "source": []
  },
  {
   "cell_type": "code",
   "execution_count": 11,
   "metadata": {},
   "outputs": [
    {
     "name": "stdout",
     "output_type": "stream",
     "text": [
      "              precision    recall  f1-score   support\n",
      "\n",
      "    Negative       0.88      0.82      0.85      1416\n",
      "     Neutral       0.57      0.57      0.57       472\n",
      "    Positive       0.66      0.82      0.73       472\n",
      "\n",
      "    accuracy                           0.77      2360\n",
      "   macro avg       0.71      0.73      0.72      2360\n",
      "weighted avg       0.78      0.77      0.77      2360\n",
      "\n"
     ]
    }
   ],
   "source": [
    "y_pred = nb_model.predict(test_features)\n",
    "y_true = test_data['airline_sentiment']\n",
    "target_names = ['Negative', 'Neutral', 'Positive']\n",
    "\n",
    "print(classification_report(y_true, y_pred, target_names=target_names))"
   ]
  },
  {
   "cell_type": "code",
   "execution_count": 12,
   "metadata": {},
   "outputs": [
    {
     "data": {
      "text/plain": [
       "Text(0.5, 15.0, 'Predicted label')"
      ]
     },
     "execution_count": 12,
     "metadata": {},
     "output_type": "execute_result"
    },
    {
     "data": {
      "image/png": "[encoded data removed]",
      "text/plain": [
       "<Figure size 432x288 with 2 Axes>"
      ]
     },
     "metadata": {
      "image/png": {
       "height": 261,
       "width": 362
      },
      "needs_background": "light"
     },
     "output_type": "display_data"
    }
   ],
   "source": [
    "conf_mat = confusion_matrix(y_true, y_pred)\n",
    "conf_mat_normalized = conf_mat.astype('float') / conf_mat.sum(axis=1)[:, np.newaxis]\n",
    "sns.heatmap(conf_mat_normalized)\n",
    "plt.ylabel('True label')\n",
    "plt.xlabel('Predicted label')"
   ]
  }
 ],
 "metadata": {
  "kernelspec": {
   "display_name": "Python 3",
   "language": "python",
   "name": "python3"
  },
  "language_info": {
   "codemirror_mode": {
    "name": "ipython",
    "version": 3
   },
   "file_extension": ".py",
   "mimetype": "text/x-python",
   "name": "python",
   "nbconvert_exporter": "python",
   "pygments_lexer": "ipython3",
   "version": "3.7.6"
  }
 },
 "nbformat": 4,
 "nbformat_minor": 4
}
